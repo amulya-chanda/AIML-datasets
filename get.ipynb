{
 "cells": [
  {
   "cell_type": "code",
   "execution_count": 17,
   "id": "4f51dc38-151b-4bba-84b2-167af2b05e85",
   "metadata": {},
   "outputs": [
    {
     "name": "stdout",
     "output_type": "stream",
     "text": [
      "https://jsonplaceholder.typicode.com/users\n",
      "Bret\n",
      "Antonette\n",
      "Samantha\n",
      "Karianne\n",
      "Kamren\n",
      "Leopoldo_Corkery\n",
      "Elwyn.Skiles\n",
      "Maxime_Nienow\n",
      "Delphine\n",
      "Moriah.Stanton\n",
      "201\n",
      "{'name': 'John Doe', 'username': 'johnny', 'email': 'john.doe@example.com', 'address': {'street': '123 Main St', 'suite': 'Apt. 101', 'city': 'Sample City', 'zipcode': '12345-6789'}, 'phone': '555-1234', 'website': 'example.com', 'id': 11}\n"
     ]
    }
   ],
   "source": [
    "import requests\n",
    "\n",
    "url= 'https://jsonplaceholder.typicode.com/users'\n",
    "print(url)\n",
    "response = requests.get(url)\n",
    "# print(response.text)\n",
    "data = response.json()\n",
    "for user in data:\n",
    "    print(user[\"username\"])\n",
    "\n",
    "# users= [user['username'] for user in response]\n",
    "# print(users)\n",
    "\n",
    "new_user_data = {\n",
    "    \"name\": \"John Doe\",\n",
    "    \"username\": \"johnny\",\n",
    "    \"email\": \"john.doe@example.com\",\n",
    "    \"address\": {\n",
    "        \"street\": \"123 Main St\",\n",
    "        \"suite\": \"Apt. 101\",\n",
    "        \"city\": \"Sample City\",\n",
    "        \"zipcode\": \"12345-6789\"\n",
    "    },\n",
    "    \"phone\": \"555-1234\",\n",
    "    \"website\": \"example.com\"\n",
    "}\n",
    "\n",
    "response_post = requests.post(url, json=new_user_data)\n",
    "\n",
    "print(response_post.status_code)\n",
    "print(response_post.json())"
   ]
  },
  {
   "cell_type": "code",
   "execution_count": null,
   "id": "60eb807a-f445-41a6-964b-f01b303222b9",
   "metadata": {},
   "outputs": [],
   "source": []
  },
  {
   "cell_type": "code",
   "execution_count": null,
   "id": "3b00f70c-497b-4452-8f2d-ff43e6ca91fc",
   "metadata": {},
   "outputs": [],
   "source": []
  },
  {
   "cell_type": "code",
   "execution_count": null,
   "id": "0d1f24bb-3a34-401c-8004-ea77014790a7",
   "metadata": {},
   "outputs": [],
   "source": []
  }
 ],
 "metadata": {
  "kernelspec": {
   "display_name": "Python 3 (ipykernel)",
   "language": "python",
   "name": "python3"
  },
  "language_info": {
   "codemirror_mode": {
    "name": "ipython",
    "version": 3
   },
   "file_extension": ".py",
   "mimetype": "text/x-python",
   "name": "python",
   "nbconvert_exporter": "python",
   "pygments_lexer": "ipython3",
   "version": "3.9.18"
  }
 },
 "nbformat": 4,
 "nbformat_minor": 5
}
