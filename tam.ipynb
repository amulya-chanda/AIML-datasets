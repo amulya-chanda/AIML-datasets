{
 "cells": [
  {
   "cell_type": "code",
   "execution_count": 38,
   "id": "b9487d02-64fc-4b8d-a4ff-5d69faa3de96",
   "metadata": {},
   "outputs": [],
   "source": [
    "pd.options.display.max_columns = None\n",
    "pd.options.display.max_rows = None"
   ]
  },
  {
   "cell_type": "code",
   "execution_count": 50,
   "id": "00e540bc-1ad8-4f58-afa7-95353721137f",
   "metadata": {},
   "outputs": [
    {
     "name": "stdout",
     "output_type": "stream",
     "text": [
      "3\n",
      "Silhouette Score: 0.41855016291878916\n",
      "Cluster\n",
      "1    128\n",
      "4     77\n",
      "0     58\n",
      "3     25\n",
      "2      9\n",
      "Name: count, dtype: int64\n"
     ]
    }
   ],
   "source": [
    "import pandas as pd\n",
    "import numpy as np\n",
    "import matplotlib.pyplot as plt\n",
    "from sklearn.cluster import KMeans\n",
    "from sklearn.metrics import silhouette_score\n",
    "from sklearn.decomposition import PCA\n",
    "from sklearn.model_selection import GridSearchCV\n",
    "\n",
    "df = pd.read_excel('/users/amulya/Desktop/TAM.xlsx')\n",
    "unwanted_columns = ['Website', 'Company Linkedin Url', 'Lists', '# Employees',\n",
    "       'Industry', 'Account Owner', 'Facebook Url', 'Twitter Url',\n",
    "       'Company City', 'Company State', 'Company Country',\n",
    "       'Company Postal Code', 'Company Address', 'Keywords', 'Company Phone',\n",
    "       'SEO Description', 'Technologies', 'Total Funding', 'Latest Funding',\n",
    "       'Latest Funding Amount', 'Last Raised At', 'Annual Revenue',\n",
    "       'Number of Retail Locations', 'Apollo Account Id', 'SIC Codes',\n",
    "       'Short Description', 'Founded Year']\n",
    "df = df.drop(unwanted_columns, axis = 1)\n",
    "# print(df.columns)\n",
    "df.fillna(0, inplace=True)\n",
    "null_values = df.isnull().sum()\n",
    "# print(null_values)\n",
    "unique_values = df['Company'].unique()\n",
    "# a = df['Company'].value_counts()\n",
    "# print(unique_values)\n",
    "company_dummies = pd.get_dummies(df['Company'])\n",
    "df = df.drop('Company',axis = 1)\n",
    "df = pd.concat([df, company_dummies], axis=1)\n",
    "ICP_dummies = pd.get_dummies(df['ICP'])\n",
    "df = df.drop('ICP',axis = 1)\n",
    "df = pd.concat([df, ICP_dummies], axis=1)\n",
    "ICP_dummies = pd.get_dummies(df['Outsourcing From \\n(Eastern European Countries)'])\n",
    "df = df.drop('Outsourcing From \\n(Eastern European Countries)',axis = 1)\n",
    "df = pd.concat([df, ICP_dummies], axis=1)\n",
    "design_dummies = pd.get_dummies(df['Design Head'],prefix = 'Design_Head')\n",
    "df = df.drop('Design Head',axis = 1)\n",
    "df = pd.concat([df, design_dummies], axis=1)\n",
    "linkedin_dummies = pd.get_dummies(df['Activities over Linkedin ( 30-60-90; >90 DAYS)'], prefix = 'linkedin')\n",
    "df = df.drop('Activities over Linkedin ( 30-60-90; >90 DAYS)',axis = 1)\n",
    "df = pd.concat([df, linkedin_dummies], axis=1)\n",
    "growth_dummies = pd.get_dummies(df['HC Growth \\n(1 yr)'], prefix = 'growth')\n",
    "df = df.drop('HC Growth \\n(1 yr)',axis = 1)\n",
    "df = pd.concat([df, growth_dummies], axis=1)\n",
    "df.columns = df.columns.astype(str)\n",
    "param_grid = {\n",
    "    'n_clusters': [3, 4, 5, 6, 7,8,9,10,15],\n",
    "    'max_iter': [100, 200, 300]\n",
    "}\n",
    "kmeans = KMeans(n_clusters=5, init='k-means++', random_state=42)\n",
    "data = kmeans.fit(df)\n",
    "cluster_labels = kmeans.labels_\n",
    "centroids = kmeans.cluster_centers_\n",
    "a = kmeans.n_iter_\n",
    "print(a)\n",
    "df['Cluster'] = cluster_labels\n",
    "silhouette_score = silhouette_score(df, cluster_labels)\n",
    "print(\"Silhouette Score:\", silhouette_score)\n",
    "print(df['Cluster'].value_counts())"
   ]
  },
  {
   "cell_type": "markdown",
   "id": "b4925761-d832-492f-abde-ea05b69980d4",
   "metadata": {},
   "source": [
    "1. selected 5 columns\n",
    "2. replaced all the null values with 0\n",
    "3. converting comapny column to numerical column"
   ]
  },
  {
   "cell_type": "code",
   "execution_count": 54,
   "id": "70826beb-744a-4a63-a776-e4611b198f57",
   "metadata": {},
   "outputs": [
    {
     "ename": "InvalidParameterError",
     "evalue": "The 'scoring' parameter of GridSearchCV must be a str among {'f1_weighted', 'jaccard', 'neg_mean_squared_log_error', 'neg_mean_gamma_deviance', 'neg_brier_score', 'f1', 'f1_micro', 'explained_variance', 'max_error', 'neg_negative_likelihood_ratio', 'neg_root_mean_squared_error', 'jaccard_samples', 'neg_median_absolute_error', 'balanced_accuracy', 'fowlkes_mallows_score', 'roc_auc_ovo', 'rand_score', 'homogeneity_score', 'neg_root_mean_squared_log_error', 'neg_mean_absolute_error', 'precision_samples', 'neg_mean_absolute_percentage_error', 'jaccard_micro', 'jaccard_weighted', 'roc_auc_ovr_weighted', 'neg_log_loss', 'top_k_accuracy', 'recall', 'matthews_corrcoef', 'roc_auc_ovr', 'roc_auc', 'accuracy', 'f1_macro', 'neg_mean_squared_error', 'f1_samples', 'adjusted_mutual_info_score', 'roc_auc_ovo_weighted', 'v_measure_score', 'neg_mean_poisson_deviance', 'normalized_mutual_info_score', 'precision_macro', 'average_precision', 'positive_likelihood_ratio', 'r2', 'adjusted_rand_score', 'mutual_info_score', 'recall_samples', 'precision_micro', 'jaccard_macro', 'precision', 'precision_weighted', 'recall_macro', 'recall_weighted', 'recall_micro', 'completeness_score'}, a callable, an instance of 'list', an instance of 'tuple', an instance of 'dict' or None. Got 'silhouette' instead.",
     "output_type": "error",
     "traceback": [
      "\u001b[0;31m---------------------------------------------------------------------------\u001b[0m",
      "\u001b[0;31mInvalidParameterError\u001b[0m                     Traceback (most recent call last)",
      "Cell \u001b[0;32mIn[54], line 11\u001b[0m\n\u001b[1;32m      8\u001b[0m grid_search \u001b[38;5;241m=\u001b[39m GridSearchCV(kmeans,param_grid, cv\u001b[38;5;241m=\u001b[39m\u001b[38;5;241m5\u001b[39m, scoring\u001b[38;5;241m=\u001b[39m\u001b[38;5;124m'\u001b[39m\u001b[38;5;124msilhouette\u001b[39m\u001b[38;5;124m'\u001b[39m)\n\u001b[1;32m     10\u001b[0m \u001b[38;5;66;03m# Fit the grid search to your data\u001b[39;00m\n\u001b[0;32m---> 11\u001b[0m \u001b[43mgrid_search\u001b[49m\u001b[38;5;241;43m.\u001b[39;49m\u001b[43mfit\u001b[49m\u001b[43m(\u001b[49m\u001b[43mdf\u001b[49m\u001b[43m)\u001b[49m\n\u001b[1;32m     13\u001b[0m \u001b[38;5;66;03m# Get the best parameters\u001b[39;00m\n\u001b[1;32m     14\u001b[0m best_params \u001b[38;5;241m=\u001b[39m grid_search\u001b[38;5;241m.\u001b[39mbest_params_\n",
      "File \u001b[0;32m/opt/homebrew/anaconda3/envs/amulya_base/lib/python3.9/site-packages/sklearn/base.py:1467\u001b[0m, in \u001b[0;36m_fit_context.<locals>.decorator.<locals>.wrapper\u001b[0;34m(estimator, *args, **kwargs)\u001b[0m\n\u001b[1;32m   1462\u001b[0m partial_fit_and_fitted \u001b[38;5;241m=\u001b[39m (\n\u001b[1;32m   1463\u001b[0m     fit_method\u001b[38;5;241m.\u001b[39m\u001b[38;5;18m__name__\u001b[39m \u001b[38;5;241m==\u001b[39m \u001b[38;5;124m\"\u001b[39m\u001b[38;5;124mpartial_fit\u001b[39m\u001b[38;5;124m\"\u001b[39m \u001b[38;5;129;01mand\u001b[39;00m _is_fitted(estimator)\n\u001b[1;32m   1464\u001b[0m )\n\u001b[1;32m   1466\u001b[0m \u001b[38;5;28;01mif\u001b[39;00m \u001b[38;5;129;01mnot\u001b[39;00m global_skip_validation \u001b[38;5;129;01mand\u001b[39;00m \u001b[38;5;129;01mnot\u001b[39;00m partial_fit_and_fitted:\n\u001b[0;32m-> 1467\u001b[0m     \u001b[43mestimator\u001b[49m\u001b[38;5;241;43m.\u001b[39;49m\u001b[43m_validate_params\u001b[49m\u001b[43m(\u001b[49m\u001b[43m)\u001b[49m\n\u001b[1;32m   1469\u001b[0m \u001b[38;5;28;01mwith\u001b[39;00m config_context(\n\u001b[1;32m   1470\u001b[0m     skip_parameter_validation\u001b[38;5;241m=\u001b[39m(\n\u001b[1;32m   1471\u001b[0m         prefer_skip_nested_validation \u001b[38;5;129;01mor\u001b[39;00m global_skip_validation\n\u001b[1;32m   1472\u001b[0m     )\n\u001b[1;32m   1473\u001b[0m ):\n\u001b[1;32m   1474\u001b[0m     \u001b[38;5;28;01mreturn\u001b[39;00m fit_method(estimator, \u001b[38;5;241m*\u001b[39margs, \u001b[38;5;241m*\u001b[39m\u001b[38;5;241m*\u001b[39mkwargs)\n",
      "File \u001b[0;32m/opt/homebrew/anaconda3/envs/amulya_base/lib/python3.9/site-packages/sklearn/base.py:666\u001b[0m, in \u001b[0;36mBaseEstimator._validate_params\u001b[0;34m(self)\u001b[0m\n\u001b[1;32m    658\u001b[0m \u001b[38;5;28;01mdef\u001b[39;00m \u001b[38;5;21m_validate_params\u001b[39m(\u001b[38;5;28mself\u001b[39m):\n\u001b[1;32m    659\u001b[0m \u001b[38;5;250m    \u001b[39m\u001b[38;5;124;03m\"\"\"Validate types and values of constructor parameters\u001b[39;00m\n\u001b[1;32m    660\u001b[0m \n\u001b[1;32m    661\u001b[0m \u001b[38;5;124;03m    The expected type and values must be defined in the `_parameter_constraints`\u001b[39;00m\n\u001b[0;32m   (...)\u001b[0m\n\u001b[1;32m    664\u001b[0m \u001b[38;5;124;03m    accepted constraints.\u001b[39;00m\n\u001b[1;32m    665\u001b[0m \u001b[38;5;124;03m    \"\"\"\u001b[39;00m\n\u001b[0;32m--> 666\u001b[0m     \u001b[43mvalidate_parameter_constraints\u001b[49m\u001b[43m(\u001b[49m\n\u001b[1;32m    667\u001b[0m \u001b[43m        \u001b[49m\u001b[38;5;28;43mself\u001b[39;49m\u001b[38;5;241;43m.\u001b[39;49m\u001b[43m_parameter_constraints\u001b[49m\u001b[43m,\u001b[49m\n\u001b[1;32m    668\u001b[0m \u001b[43m        \u001b[49m\u001b[38;5;28;43mself\u001b[39;49m\u001b[38;5;241;43m.\u001b[39;49m\u001b[43mget_params\u001b[49m\u001b[43m(\u001b[49m\u001b[43mdeep\u001b[49m\u001b[38;5;241;43m=\u001b[39;49m\u001b[38;5;28;43;01mFalse\u001b[39;49;00m\u001b[43m)\u001b[49m\u001b[43m,\u001b[49m\n\u001b[1;32m    669\u001b[0m \u001b[43m        \u001b[49m\u001b[43mcaller_name\u001b[49m\u001b[38;5;241;43m=\u001b[39;49m\u001b[38;5;28;43mself\u001b[39;49m\u001b[38;5;241;43m.\u001b[39;49m\u001b[38;5;18;43m__class__\u001b[39;49m\u001b[38;5;241;43m.\u001b[39;49m\u001b[38;5;18;43m__name__\u001b[39;49m\u001b[43m,\u001b[49m\n\u001b[1;32m    670\u001b[0m \u001b[43m    \u001b[49m\u001b[43m)\u001b[49m\n",
      "File \u001b[0;32m/opt/homebrew/anaconda3/envs/amulya_base/lib/python3.9/site-packages/sklearn/utils/_param_validation.py:95\u001b[0m, in \u001b[0;36mvalidate_parameter_constraints\u001b[0;34m(parameter_constraints, params, caller_name)\u001b[0m\n\u001b[1;32m     89\u001b[0m \u001b[38;5;28;01melse\u001b[39;00m:\n\u001b[1;32m     90\u001b[0m     constraints_str \u001b[38;5;241m=\u001b[39m (\n\u001b[1;32m     91\u001b[0m         \u001b[38;5;124mf\u001b[39m\u001b[38;5;124m\"\u001b[39m\u001b[38;5;132;01m{\u001b[39;00m\u001b[38;5;124m'\u001b[39m\u001b[38;5;124m, \u001b[39m\u001b[38;5;124m'\u001b[39m\u001b[38;5;241m.\u001b[39mjoin([\u001b[38;5;28mstr\u001b[39m(c)\u001b[38;5;250m \u001b[39m\u001b[38;5;28;01mfor\u001b[39;00m\u001b[38;5;250m \u001b[39mc\u001b[38;5;250m \u001b[39m\u001b[38;5;129;01min\u001b[39;00m\u001b[38;5;250m \u001b[39mconstraints[:\u001b[38;5;241m-\u001b[39m\u001b[38;5;241m1\u001b[39m]])\u001b[38;5;132;01m}\u001b[39;00m\u001b[38;5;124m or\u001b[39m\u001b[38;5;124m\"\u001b[39m\n\u001b[1;32m     92\u001b[0m         \u001b[38;5;124mf\u001b[39m\u001b[38;5;124m\"\u001b[39m\u001b[38;5;124m \u001b[39m\u001b[38;5;132;01m{\u001b[39;00mconstraints[\u001b[38;5;241m-\u001b[39m\u001b[38;5;241m1\u001b[39m]\u001b[38;5;132;01m}\u001b[39;00m\u001b[38;5;124m\"\u001b[39m\n\u001b[1;32m     93\u001b[0m     )\n\u001b[0;32m---> 95\u001b[0m \u001b[38;5;28;01mraise\u001b[39;00m InvalidParameterError(\n\u001b[1;32m     96\u001b[0m     \u001b[38;5;124mf\u001b[39m\u001b[38;5;124m\"\u001b[39m\u001b[38;5;124mThe \u001b[39m\u001b[38;5;132;01m{\u001b[39;00mparam_name\u001b[38;5;132;01m!r}\u001b[39;00m\u001b[38;5;124m parameter of \u001b[39m\u001b[38;5;132;01m{\u001b[39;00mcaller_name\u001b[38;5;132;01m}\u001b[39;00m\u001b[38;5;124m must be\u001b[39m\u001b[38;5;124m\"\u001b[39m\n\u001b[1;32m     97\u001b[0m     \u001b[38;5;124mf\u001b[39m\u001b[38;5;124m\"\u001b[39m\u001b[38;5;124m \u001b[39m\u001b[38;5;132;01m{\u001b[39;00mconstraints_str\u001b[38;5;132;01m}\u001b[39;00m\u001b[38;5;124m. Got \u001b[39m\u001b[38;5;132;01m{\u001b[39;00mparam_val\u001b[38;5;132;01m!r}\u001b[39;00m\u001b[38;5;124m instead.\u001b[39m\u001b[38;5;124m\"\u001b[39m\n\u001b[1;32m     98\u001b[0m )\n",
      "\u001b[0;31mInvalidParameterError\u001b[0m: The 'scoring' parameter of GridSearchCV must be a str among {'f1_weighted', 'jaccard', 'neg_mean_squared_log_error', 'neg_mean_gamma_deviance', 'neg_brier_score', 'f1', 'f1_micro', 'explained_variance', 'max_error', 'neg_negative_likelihood_ratio', 'neg_root_mean_squared_error', 'jaccard_samples', 'neg_median_absolute_error', 'balanced_accuracy', 'fowlkes_mallows_score', 'roc_auc_ovo', 'rand_score', 'homogeneity_score', 'neg_root_mean_squared_log_error', 'neg_mean_absolute_error', 'precision_samples', 'neg_mean_absolute_percentage_error', 'jaccard_micro', 'jaccard_weighted', 'roc_auc_ovr_weighted', 'neg_log_loss', 'top_k_accuracy', 'recall', 'matthews_corrcoef', 'roc_auc_ovr', 'roc_auc', 'accuracy', 'f1_macro', 'neg_mean_squared_error', 'f1_samples', 'adjusted_mutual_info_score', 'roc_auc_ovo_weighted', 'v_measure_score', 'neg_mean_poisson_deviance', 'normalized_mutual_info_score', 'precision_macro', 'average_precision', 'positive_likelihood_ratio', 'r2', 'adjusted_rand_score', 'mutual_info_score', 'recall_samples', 'precision_micro', 'jaccard_macro', 'precision', 'precision_weighted', 'recall_macro', 'recall_weighted', 'recall_micro', 'completeness_score'}, a callable, an instance of 'list', an instance of 'tuple', an instance of 'dict' or None. Got 'silhouette' instead."
     ]
    }
   ],
   "source": [
    "param_grid = {\n",
    "    'n_clusters': [3, 4, 5, 6, 7],  # Values of K to try\n",
    "    'init': ['k-means++', 'random'],  # Initialization methods\n",
    "    'max_iter': [100, 200, 300]  # Maximum number of iterations\n",
    "}\n",
    "kmeans = KMeans(random_state=42)\n",
    "# Create GridSearchCV instance\n",
    "grid_search = GridSearchCV(kmeans,param_grid, cv=5, scoring='silhouette')\n",
    "\n",
    "# Fit the grid search to your data\n",
    "grid_search.fit(df)\n",
    "\n",
    "# Get the best parameters\n",
    "best_params = grid_search.best_params_\n",
    "print(\"Best parameters:\", best_params)\n",
    "\n",
    "# Get the best silhouette score\n",
    "best_score = grid_search.best_score_\n",
    "print(\"Best Silhouette Score:\", best_score)\n",
    "\n",
    "# Get the best estimator\n",
    "best_estimator = grid_search.best_estimator_\n",
    "\n",
    "# Use the best estimator to fit the data\n",
    "best_estimator.fit(df)"
   ]
  },
  {
   "cell_type": "code",
   "execution_count": null,
   "id": "5f08e1b7-b61e-474e-ae5c-d03c46b22d23",
   "metadata": {},
   "outputs": [],
   "source": []
  }
 ],
 "metadata": {
  "kernelspec": {
   "display_name": "Python 3 (ipykernel)",
   "language": "python",
   "name": "python3"
  },
  "language_info": {
   "codemirror_mode": {
    "name": "ipython",
    "version": 3
   },
   "file_extension": ".py",
   "mimetype": "text/x-python",
   "name": "python",
   "nbconvert_exporter": "python",
   "pygments_lexer": "ipython3",
   "version": "3.9.18"
  }
 },
 "nbformat": 4,
 "nbformat_minor": 5
}
