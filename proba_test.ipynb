{
 "cells": [
  {
   "cell_type": "code",
   "execution_count": 66,
   "id": "75980ba2-5c78-4b0f-a43b-991e9592f17e",
   "metadata": {},
   "outputs": [
    {
     "name": "stdout",
     "output_type": "stream",
     "text": [
      "Predicted_ICP\n",
      "ICP           1045\n",
      "Not an ICP     982\n",
      "Name: count, dtype: int64\n"
     ]
    },
    {
     "data": {
      "text/plain": [
       "actual_ICP\n",
       "Not an ICP    1588\n",
       "ICP            439\n",
       "Name: count, dtype: int64"
      ]
     },
     "execution_count": 66,
     "metadata": {},
     "output_type": "execute_result"
    }
   ],
   "source": [
    "import pandas as pd\n",
    "pd.options.display.max_columns = None\n",
    "pd.options.display.max_rows = None\n",
    "\n",
    "\n",
    "df = pd.read_excel('/users/amulya/Downloads/predictions_atlanta_with_probability.xlsx')\n",
    "df.head()\n",
    "unwanted_rows = df[df['actual_ICP'] == 'Invalid Company?']\n",
    "df = df.drop(unwanted_rows.index)\n",
    "df['actual_ICP'] = df['actual_ICP'].replace({'S2' : 'ICP', 'S1' : 'ICP', 'S3':'ICP', 'B2' : 'ICP', 'B1' : 'ICP', 'Not Relevant/ Not ICP)': 'Not an ICP'})\n",
    "print(df['Predicted_ICP'].value_counts())\n",
    "df['actual_ICP'].value_counts()\n",
    "# filtered_df = df[(df['actual_ICP'] == 'Not an ICP')]\n",
    "# print(filtered_df)\n",
    "# filtered_df = df[(df['prob_n_icp'] >=0.6)]\n",
    "# filtered_df= df[(df['Predicted_ICP'] != df['actual_ICP'])]\n",
    "# filtered_df.head(119)\n",
    "# filtered_df.count()\n",
    "\n",
    "# print(len(filtered_df))"
   ]
  },
  {
   "cell_type": "markdown",
   "id": "a720e969-793d-48a4-8a80-71f16a528ea7",
   "metadata": {},
   "source": [
    "wrongly predicted output : predicted - not an icp, actual : icp records = 113\n",
    "55 where prob_n_icp>=0.6 , \n",
    "596 = where actual_ICP == invalid company i'm removing those\n",
    "832 = df['Predicted_ICP'] != df['actual_ICP']\n",
    "58 = prob_icp>0.4"
   ]
  }
 ],
 "metadata": {
  "kernelspec": {
   "display_name": "Python 3 (ipykernel)",
   "language": "python",
   "name": "python3"
  },
  "language_info": {
   "codemirror_mode": {
    "name": "ipython",
    "version": 3
   },
   "file_extension": ".py",
   "mimetype": "text/x-python",
   "name": "python",
   "nbconvert_exporter": "python",
   "pygments_lexer": "ipython3",
   "version": "3.9.18"
  }
 },
 "nbformat": 4,
 "nbformat_minor": 5
}
