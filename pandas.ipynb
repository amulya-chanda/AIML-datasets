{
 "cells": [
  {
   "cell_type": "code",
   "execution_count": 1,
   "id": "093b58b5",
   "metadata": {},
   "outputs": [],
   "source": [
    "import pandas as pd\n",
    "data = pd.read_csv(\"/users/amulya/Downloads/HousePricePrediction.csv\")\n",
    "# print(data)\n",
    "\n",
    "# new_data = data[['SalePrice','MSSubClass']]\n",
    "# a=new_data['MSSubClass'].corr(new_data['SalePrice'])\n",
    "# print(a)\n",
    "# data.sort_values(by=['YearBuilt','SalePrice'])\n",
    "# commercial_data = data[data['MSZoning'] == 'RL']\n",
    "# print(commercial_data.to_string())\n",
    "# delete_columns = ['LotConfig','BldgType','BsmtFinSF2']\n",
    "# print(data.drop(columns=delete_columns, axis = 1))\n",
    "# data.describe()\n",
    "# print(data.head(10))\n",
    "# print(data.tail(10))\n",
    "# print(data.info())\n",
    "# print(data.drop([1:6], axis=0, inplace=True))\n",
    "# print(data.to_string()) \n",
    "# print(data.dtypes)\n",
    "# data['MSZoning'].dtypes\n",
    "# data['YearBuilt'].dtypes\n",
    "# data.select_dtypes(exclude = 'int64')"
   ]
  },
  {
   "cell_type": "code",
   "execution_count": null,
   "id": "fcbc9924-8fc8-4a27-8100-26457e43805e",
   "metadata": {},
   "outputs": [],
   "source": []
  },
  {
   "cell_type": "code",
   "execution_count": null,
   "id": "e323aa05-14ba-4010-b00a-6eb2506c6461",
   "metadata": {},
   "outputs": [],
   "source": []
  },
  {
   "cell_type": "code",
   "execution_count": null,
   "id": "9abf3e76-9aed-45fe-a624-245d9b2dbf3f",
   "metadata": {},
   "outputs": [],
   "source": []
  },
  {
   "cell_type": "code",
   "execution_count": null,
   "id": "8b75741d-ec57-4a07-994b-5f8c2875eb91",
   "metadata": {},
   "outputs": [],
   "source": []
  }
 ],
 "metadata": {
  "kernelspec": {
   "display_name": "Python 3 (ipykernel)",
   "language": "python",
   "name": "python3"
  },
  "language_info": {
   "codemirror_mode": {
    "name": "ipython",
    "version": 3
   },
   "file_extension": ".py",
   "mimetype": "text/x-python",
   "name": "python",
   "nbconvert_exporter": "python",
   "pygments_lexer": "ipython3",
   "version": "3.9.18"
  }
 },
 "nbformat": 4,
 "nbformat_minor": 5
}
