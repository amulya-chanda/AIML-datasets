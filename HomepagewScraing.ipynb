{
 "cells": [
  {
   "cell_type": "code",
   "execution_count": 9,
   "id": "b64463c7-0e9f-478b-a2a5-d8ef40e1ebf5",
   "metadata": {},
   "outputs": [],
   "source": [
    "import pandas as pd;\n",
    "import requests\n",
    "from bs4 import BeautifulSoup\n",
    "import re\n",
    "import warnings\n",
    "warnings.filterwarnings('ignore')\n",
    "\n",
    "\n",
    "websites = [\n",
    "# \"https://www.lambdatest.com/about\",\n",
    "\"https://www.softwaresuggest.com/about\"]"
   ]
  },
  {
   "cell_type": "code",
   "execution_count": 10,
   "id": "827511cb-bf68-4225-8eed-eeb29348c301",
   "metadata": {},
   "outputs": [],
   "source": [
    "\n",
    "# Function to scrape text content from a given URL and check for tabs labeled \"Services\" and \"Products\"\n",
    "def web_scrape(url):\n",
    "    try:\n",
    "        response = requests.get(url, verify=False)\n",
    "        response.raise_for_status()  # Raise an exception for HTTP errors\n",
    "        soup = BeautifulSoup(response.text, 'html.parser')\n",
    "        # Extract only visible text content\n",
    "        text_content = soup.get_text(separator=' ')\n",
    "        # Remove extra whitespace and newlines\n",
    "        text_content = re.sub(r'\\s+', ' ', text_content).strip()\n",
    "\n",
    "        # Check if \"Services\" and \"Products\" tabs are present\n",
    "        services_tab_present = soup.find(text=re.compile(r'Services', re.IGNORECASE))\n",
    "        products_tab_present = soup.find(text=re.compile(r'Products', re.IGNORECASE))\n",
    "        print(text_content, '2t3197683t476++++++>>>>>>')\n",
    "        return text_content, services_tab_present is not None, products_tab_present is not None\n",
    "    except Exception as e:\n",
    "        print(f\"Error scraping URL: {url}\")\n",
    "        print(f\"Error message: {str(e)}\")\n",
    "        return url, False, False\n"
   ]
  },
  {
   "cell_type": "code",
   "execution_count": 11,
   "id": "4ee92507-67a3-4247-b69b-4a16cfb51d92",
   "metadata": {},
   "outputs": [
    {
     "name": "stdout",
     "output_type": "stream",
     "text": [
      "---->>>    https://www.softwaresuggest.com/about\n",
      "Error scraping URL: https://www.softwaresuggest.com/about\n",
      "Error message: 403 Client Error: Forbidden for url: https://www.softwaresuggest.com/about\n"
     ]
    },
    {
     "data": {
      "text/html": [
       "<div>\n",
       "<style scoped>\n",
       "    .dataframe tbody tr th:only-of-type {\n",
       "        vertical-align: middle;\n",
       "    }\n",
       "\n",
       "    .dataframe tbody tr th {\n",
       "        vertical-align: top;\n",
       "    }\n",
       "\n",
       "    .dataframe thead th {\n",
       "        text-align: right;\n",
       "    }\n",
       "</style>\n",
       "<table border=\"1\" class=\"dataframe\">\n",
       "  <thead>\n",
       "    <tr style=\"text-align: right;\">\n",
       "      <th></th>\n",
       "      <th>Text Content</th>\n",
       "      <th>Services Tab</th>\n",
       "      <th>Products Tab</th>\n",
       "      <th>websites</th>\n",
       "    </tr>\n",
       "  </thead>\n",
       "  <tbody>\n",
       "    <tr>\n",
       "      <th>0</th>\n",
       "      <td>https://www.softwaresuggest.com/about</td>\n",
       "      <td>False</td>\n",
       "      <td>False</td>\n",
       "      <td>https://www.softwaresuggest.com/about</td>\n",
       "    </tr>\n",
       "  </tbody>\n",
       "</table>\n",
       "</div>"
      ],
      "text/plain": [
       "                            Text Content  Services Tab  Products Tab  \\\n",
       "0  https://www.softwaresuggest.com/about         False         False   \n",
       "\n",
       "                                websites  \n",
       "0  https://www.softwaresuggest.com/about  "
      ]
     },
     "execution_count": 11,
     "metadata": {},
     "output_type": "execute_result"
    }
   ],
   "source": [
    "df = pd.DataFrame()\n",
    "\n",
    "text_contents = []\n",
    "services_tabs = []\n",
    "products_tabs = []\n",
    "for website in websites:\n",
    "    print( '---->>>   ', website)\n",
    "    text_content, services_tab_present, products_tab_present = web_scrape(website)\n",
    "    text_contents.append(text_content)\n",
    "    services_tabs.append(services_tab_present)\n",
    "    products_tabs.append(products_tab_present)\n",
    "\n",
    "df['Text Content'] = text_contents\n",
    "df['Services Tab'] = services_tabs\n",
    "df['Products Tab'] = products_tabs\n",
    "df['websites'] = pd.DataFrame(websites)\n",
    "df.head()"
   ]
  },
  {
   "cell_type": "code",
   "execution_count": 4,
   "id": "969f62c8-4dff-464e-90a6-ff39a47d3652",
   "metadata": {},
   "outputs": [
    {
     "data": {
      "text/plain": [
       "0    Next-Generation Mobile Apps and Cross Browser ...\n",
       "1                       http://www.softwaresuggest.com\n",
       "Name: Text Content, dtype: object"
      ]
     },
     "execution_count": 4,
     "metadata": {},
     "output_type": "execute_result"
    }
   ],
   "source": [
    "df['Text Content'].head()"
   ]
  },
  {
   "cell_type": "code",
   "execution_count": null,
   "id": "740bf87a-cd84-4eee-a1de-4ed65989bea9",
   "metadata": {},
   "outputs": [],
   "source": []
  },
  {
   "cell_type": "code",
   "execution_count": null,
   "id": "b2871629-bf6b-4452-b187-37d3166df181",
   "metadata": {},
   "outputs": [],
   "source": []
  },
  {
   "cell_type": "code",
   "execution_count": null,
   "id": "1d7c5343-82a2-4646-b0cb-dc346c3dba18",
   "metadata": {},
   "outputs": [],
   "source": []
  }
 ],
 "metadata": {
  "kernelspec": {
   "display_name": "Python 3 (ipykernel)",
   "language": "python",
   "name": "python3"
  },
  "language_info": {
   "codemirror_mode": {
    "name": "ipython",
    "version": 3
   },
   "file_extension": ".py",
   "mimetype": "text/x-python",
   "name": "python",
   "nbconvert_exporter": "python",
   "pygments_lexer": "ipython3",
   "version": "3.9.18"
  }
 },
 "nbformat": 4,
 "nbformat_minor": 5
}
