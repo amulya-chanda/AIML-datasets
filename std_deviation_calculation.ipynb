{
 "cells": [
  {
   "cell_type": "code",
   "execution_count": 4,
   "id": "cb846e11-6a86-4cbc-9d7f-159fbd7a1b29",
   "metadata": {},
   "outputs": [
    {
     "name": "stdout",
     "output_type": "stream",
     "text": [
      "MEAN :  6.0\n",
      "VARIANCE :  11.666666666666666\n",
      "Std DEVIATION :  3.415650255319866\n"
     ]
    }
   ],
   "source": [
    "import numpy as np\n",
    "xs = [1, 3, 5, 7, 9, 11]   \n",
    "mean = sum(xs) / len(xs)   # mean\n",
    "var  = sum(pow(x-mean,2) for x in xs) / len(xs)  # variance\n",
    "std  = np.sqrt(var)  # standard deviation\n",
    "\n",
    "print(\"MEAN : \", mean);\n",
    "print(\"VARIANCE : \", var);\n",
    "print(\"Std DEVIATION : \", std);"
   ]
  },
  {
   "cell_type": "code",
   "execution_count": 8,
   "id": "98f0ac64-01bc-4d69-8ebb-162fbf172f10",
   "metadata": {},
   "outputs": [
    {
     "name": "stdout",
     "output_type": "stream",
     "text": [
      "3.415650255319866\n"
     ]
    }
   ],
   "source": [
    "import pandas as pd\n",
    "import numpy as np\n",
    "xs = [1, 3, 5, 7, 9, 11] \n",
    "arr = np.array(xs)\n",
    "print(np.std(arr))"
   ]
  },
  {
   "cell_type": "code",
   "execution_count": 11,
   "id": "db8eeb55-eeb9-4777-a332-a4aeca744281",
   "metadata": {},
   "outputs": [
    {
     "name": "stdout",
     "output_type": "stream",
     "text": [
      "3.7416573867739413\n"
     ]
    }
   ],
   "source": [
    "import pandas as pd\n",
    "xs = [1, 3, 5, 7, 9, 11] \n",
    "series_xs = pd.Series(xs)\n",
    "\n",
    "print(series_xs.std(ddof=0))"
   ]
  },
  {
   "cell_type": "code",
   "execution_count": 29,
   "id": "6387453b-b965-40d3-9cbf-8b703bfb017d",
   "metadata": {},
   "outputs": [
    {
     "name": "stdout",
     "output_type": "stream",
     "text": [
      "[4, 12, 23, 34, 43, 45, 48, 56, 65, 78, 100, 392, 432, 658, 789, 890, 899, 900]\n",
      "mean : 303.77777777777777\n",
      " median : 71.5\n",
      " std : 347.72954937159545 \n",
      "\n"
     ]
    }
   ],
   "source": [
    "data = [392,78,45,100,34,789,23,48,900,56,12,4,658,890,43,899,65,432]\n",
    "mean_value = sum(data)/len(data)\n",
    "sorted_data = sorted(data)\n",
    "print(sorted_data)\n",
    "if n % 2 == 0:\n",
    "    median_value = (sorted_data[n // 2 - 1] + sorted_data[n // 2]) / 2\n",
    "else:\n",
    "    median_value = sorted_data[n // 2]\n",
    "sum_squared_diff = sum((x - mean_value) ** 2 for x in data)\n",
    "std_deviation = (sum_squared_diff / len(data)) ** 0.5\n",
    "print(f\"mean : {mean_value}\\n median : {median_value}\\n std : {std_deviation} \\n\")"
   ]
  },
  {
   "cell_type": "code",
   "execution_count": 36,
   "id": "ccdee63a-93a1-442d-8ca6-4aa0420f28c4",
   "metadata": {},
   "outputs": [
    {
     "name": "stdout",
     "output_type": "stream",
     "text": [
      "[4, 12, 23, 34, 43, 45, 48, 56, 65, 78, 100, 392, 432, 658, 789, 890, 899, 900] 18\n",
      "[4, 12, 23, 34, 43, 45, 48, 56, 65]\n",
      "mean : 303.77777777777777\n",
      " median = 71.5\n",
      " std : 347.72954937159545 \n",
      " q1: 43.5\n"
     ]
    }
   ],
   "source": [
    "import pandas as pd \n",
    "import numpy as np\n",
    "data = [392,78,45,100,34,789,23,48,900,56,12,4,658,890,43,899,65,432]\n",
    "data.sort()\n",
    "print(data, len(data))\n",
    "print(data[0:9])\n",
    "\n",
    "data_series  = pd.Series(data)\n",
    "mean = data_series.mean()\n",
    "median = data_series.median()\n",
    "dev = data_series.std(ddof=0)\n",
    "q1 = np.percentile(data_series, 25)\n",
    "print(f\"mean : {mean}\\n median = {median}\\n std : {dev} \\n q1: {q1}\")\n"
   ]
  },
  {
   "cell_type": "code",
   "execution_count": null,
   "id": "d1da9d0a-30be-44b7-bf0e-c868ed824623",
   "metadata": {},
   "outputs": [],
   "source": []
  }
 ],
 "metadata": {
  "kernelspec": {
   "display_name": "Python 3 (ipykernel)",
   "language": "python",
   "name": "python3"
  },
  "language_info": {
   "codemirror_mode": {
    "name": "ipython",
    "version": 3
   },
   "file_extension": ".py",
   "mimetype": "text/x-python",
   "name": "python",
   "nbconvert_exporter": "python",
   "pygments_lexer": "ipython3",
   "version": "3.9.18"
  }
 },
 "nbformat": 4,
 "nbformat_minor": 5
}
