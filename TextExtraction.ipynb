{
 "cells": [
  {
   "cell_type": "code",
   "execution_count": 1,
   "id": "c05298b6-e2ac-4808-b639-17552723d34e",
   "metadata": {},
   "outputs": [],
   "source": [
    "import pytesseract\n",
    "from PIL import Image"
   ]
  },
  {
   "cell_type": "code",
   "execution_count": 2,
   "id": "49da604d-4d25-4666-900e-b015025ebb1b",
   "metadata": {},
   "outputs": [],
   "source": [
    "pytesseract.pytesseract.tesseract_cmd = \"/opt/homebrew/bin/tesseract\""
   ]
  },
  {
   "cell_type": "code",
   "execution_count": 11,
   "id": "7ebe1dad-4b03-414f-bdcb-c39ba1fc819e",
   "metadata": {},
   "outputs": [],
   "source": [
    "image_path = \"/users/amulya/Desktop/image.png\""
   ]
  },
  {
   "cell_type": "code",
   "execution_count": 12,
   "id": "c2f21713-e1df-4dd3-81c0-fa630765bab6",
   "metadata": {},
   "outputs": [],
   "source": [
    "image = Image.open(image_path)"
   ]
  },
  {
   "cell_type": "code",
   "execution_count": 13,
   "id": "aa2b0671-2912-44cd-8793-b7c4288e5b3d",
   "metadata": {},
   "outputs": [],
   "source": [
    "extracted_text = pytesseract.image_to_string(image)"
   ]
  },
  {
   "cell_type": "code",
   "execution_count": 14,
   "id": "91f532bf-e586-4694-a559-2b9c03251ce5",
   "metadata": {},
   "outputs": [
    {
     "name": "stdout",
     "output_type": "stream",
     "text": [
      "TITLE OF pocumel\n",
      "sconine Vs\n",
      "\n",
      "sexe powe et oe oo or pn. wren you\n",
      "paste oe crt 8 Maroy can so PE\n",
      "“ore we four document\n",
      "\n",
      "asec or\n",
      "eae, ont cO¥\n",
      "\n",
      "our document 0k pte ete provider\n",
      "ees tak OS prose rr eae 3382\n",
      "ease and sideba eae genet want\n",
      "\n",
      "exp your duet C8\n",
      "ceo chats aS\n",
      "range 302\"\n",
      "\n",
      "Jot\n",
      "the\n",
      "\n",
      "\"en, your nena\n",
      "\n",
      "ro sna now we et roeisnar the\n",
      "cee and BEN yo pons eae\n",
      "AAOINGTS eas, 1018 HEN ITN\n",
      "est\n",
      "\n",
      "1,280 x 720\n",
      "\n",
      "\n"
     ]
    }
   ],
   "source": [
    "print(extracted_text)"
   ]
  },
  {
   "cell_type": "code",
   "execution_count": 15,
   "id": "0cd6701f-71f7-4751-b2a8-b47234c7f2ec",
   "metadata": {},
   "outputs": [],
   "source": [
    "image_path1 = \"/users/amulya/Desktop/screenshots/appStore.png\""
   ]
  },
  {
   "cell_type": "code",
   "execution_count": 17,
   "id": "b5fccaa6-a4b5-43f0-8641-acfae4e47b07",
   "metadata": {},
   "outputs": [],
   "source": [
    "image1 = Image.open(image_path1)"
   ]
  },
  {
   "cell_type": "code",
   "execution_count": 18,
   "id": "8126ff45-60f2-4049-a8b6-ee1b54b7f3e1",
   "metadata": {},
   "outputs": [],
   "source": [
    "extracted_text = pytesseract.image_to_string(image1)"
   ]
  },
  {
   "cell_type": "code",
   "execution_count": 19,
   "id": "dbf8d062-ed5d-4327-a834-f8c94fb48f1a",
   "metadata": {},
   "outputs": [
    {
     "name": "stdout",
     "output_type": "stream",
     "text": [
      "Maia olel\\G® <x GO 6B EBE8'8 ¥/@\\P\\SE/GIO! S| S| S/GIGIG/S/G\\/¥/GIS|G G|S|G S{S/G/S/Gl S| + v\n",
      "\n",
      "€ > G 23 play.google.com/console/u/0/developers/8034726567735173974/app/4974855994287920513/tracks/4697742101109470818/releases/3/... ¥¥ a @ Fp g @\n",
      "\n",
      "View details\n",
      "\n",
      "= - Google Play Console Q__ Search Play Console eo @ Vv VendiGig\n",
      "<_ Allapps Create production release\n",
      "OF Dashboard App integrity\n",
      "(Inbox 4 .\n",
      "'e (©) Releases signed by Google Play\n",
      "Il, Statistics Google Play's integrity and signing services help you to ensure your apps and games are experienced the way you intend\n",
      "\n",
      "ZC) Publishing overview Get integrity protection\n",
      "\n",
      "Release App bundles\n",
      "\n",
      "ne Releases overview\n",
      "£4 Production\n",
      "\n",
      "» » Testing\n",
      "\n",
      "D bundles here to upload\n",
      "> 1hQ Reach and devices FOP app Bundles nere to uploa\n",
      "\n",
      "4, Upload Add from library\n",
      "(as) App bundle explorer\n",
      "\n",
      "@ App integrity @ app-release.aab x\n",
      "> £93 Setup Version code 3 has already been used. Try another version code.\n",
      "Grow Previous release\n",
      "\n",
      "Discard Save as draft Next\n",
      "\n"
     ]
    }
   ],
   "source": [
    "print(extracted_text)"
   ]
  },
  {
   "cell_type": "code",
   "execution_count": null,
   "id": "9ca8df43-aa18-401d-bd18-67fe91b01fd8",
   "metadata": {},
   "outputs": [],
   "source": []
  }
 ],
 "metadata": {
  "kernelspec": {
   "display_name": "Python 3 (ipykernel)",
   "language": "python",
   "name": "python3"
  },
  "language_info": {
   "codemirror_mode": {
    "name": "ipython",
    "version": 3
   },
   "file_extension": ".py",
   "mimetype": "text/x-python",
   "name": "python",
   "nbconvert_exporter": "python",
   "pygments_lexer": "ipython3",
   "version": "3.9.18"
  }
 },
 "nbformat": 4,
 "nbformat_minor": 5
}
