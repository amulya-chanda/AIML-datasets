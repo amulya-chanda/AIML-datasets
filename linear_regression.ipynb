{
 "cells": [
  {
   "cell_type": "code",
   "execution_count": 19,
   "id": "9264658a-a6d0-4833-be2f-c5ded9fb5917",
   "metadata": {},
   "outputs": [
    {
     "name": "stdout",
     "output_type": "stream",
     "text": [
      "0.5332965197782735\n",
      "Mean Absolute Error (MAE): 40099.31067304551\n",
      "Mean Squared Error (MSE): 3256700643.54389\n",
      "R-squared (R²): 0.5332965197782735\n",
      "Root Mean Squared Error (RMSE): 57067.50952638366\n"
     ]
    }
   ],
   "source": [
    "import pandas as pd\n",
    "import numpy as np\n",
    "import matplotlib.pyplot as plt\n",
    "from sklearn.model_selection import train_test_split\n",
    "from sklearn.linear_model import LinearRegression\n",
    "from sklearn.metrics import mean_absolute_error, mean_squared_error, r2_score\n",
    "house_price_prediction = pd.read_csv(\"/users/amulya/Downloads/HousePricePrediction.csv\")\n",
    "unwanted_columns = ['Id','YearBuilt','YearRemodAdd','Exterior1st']\n",
    "house_price_prediction = house_price_prediction.drop(unwanted_columns,axis = 1)\n",
    "# print(house_price_prediction.head())\n",
    "# house_price_prediction.replace('?', pd.NA, inplace=True)\n",
    "house_price_prediction = house_price_prediction.dropna()\n",
    "dummies = pd.get_dummies(house_price_prediction['MSZoning'], prefix='MSZoning')\n",
    "# print(dummies)\n",
    "# dummies.columns = dummies.columns.str.upper()\n",
    "# Create new columns based on 'MSzoning'\n",
    "house_price_prediction['C'] = (dummies['MSZoning_C (all)'] == 1).astype(int)\n",
    "house_price_prediction['RL'] = (dummies['MSZoning_RL'] == 1).astype(int)\n",
    "house_price_prediction['RM'] = (dummies['MSZoning_RM'] == 1).astype(int)\n",
    "house_price_prediction['FV'] = (dummies['MSZoning_FV'] == 1).astype(int)\n",
    "house_price_prediction['RH'] = (dummies['MSZoning_RH'] == 1).astype(int)\n",
    "house_price_prediction = house_price_prediction.drop('MSZoning',axis = 1)\n",
    "LotConfig_dummies = pd.get_dummies(house_price_prediction['LotConfig'])\n",
    "# print(LotConfig_dummies)\n",
    "house_price_prediction['Corner'] = (LotConfig_dummies['Corner'] == 1).astype(int)\n",
    "house_price_prediction['CulDSac'] = (LotConfig_dummies['CulDSac'] == 1).astype(int)\n",
    "house_price_prediction['FR2'] = (LotConfig_dummies['FR2'] == 1).astype(int)\n",
    "house_price_prediction['FR3'] = (LotConfig_dummies['FR3'] == 1).astype(int)\n",
    "house_price_prediction['Inside'] = (LotConfig_dummies['Inside'] == 1).astype(int)\n",
    "house_price_prediction = house_price_prediction.drop('LotConfig',axis = 1)\n",
    "BldgType_dummies = pd.get_dummies(house_price_prediction['BldgType'])\n",
    "# print(BldgType_dummies)\n",
    "house_price_prediction['1Fam'] = (BldgType_dummies['1Fam'] == 1).astype(int)\n",
    "house_price_prediction['2fmcom'] = (BldgType_dummies['2fmCon'] == 1).astype(int)\n",
    "house_price_prediction['Duplex'] = (BldgType_dummies['Duplex'] == 1).astype(int)\n",
    "house_price_prediction['Twnhs'] = (BldgType_dummies['Twnhs'] == 1).astype(int)\n",
    "house_price_prediction['TwnhsE'] = (BldgType_dummies['TwnhsE'] == 1).astype(int)\n",
    "house_price_prediction = house_price_prediction.drop('BldgType',axis = 1)\n",
    "# print(house_price_prediction.tail())\n",
    "x = house_price_prediction.drop(['SalePrice'], axis= 1)\n",
    "# print('dhbc',x)\n",
    "y = house_price_prediction['SalePrice'] \n",
    "# print(len(x),len(y))\n",
    "x_train, x_test, y_train, y_test = train_test_split(x, y, test_size=0.3, random_state=42)\n",
    "# print(len(x_train),len(x_test))\n",
    "\n",
    "# print(y_train.head())\n",
    "model = LinearRegression()\n",
    "model.fit(x_train, y_train)\n",
    "y_pred = model.predict(x_test)\n",
    "# print(y_pred)\n",
    "a = model.score(x_test,y_test)\n",
    "print(a)\n",
    "mae = mean_absolute_error(y_test, y_pred)\n",
    "mse = mean_squared_error(y_test, y_pred)\n",
    "r_squared = r2_score(y_test, y_pred)\n",
    "rmse = np.sqrt(mse)\n",
    "print(\"Mean Absolute Error (MAE):\", mae)\n",
    "print(\"Mean Squared Error (MSE):\", mse)\n",
    "print(\"R-squared (R²):\", r_squared)  \n",
    "print(\"Root Mean Squared Error (RMSE):\", rmse)\n",
    "# plt.scatter(x_test, x_test, color='black')\n",
    "# plt.plot(x_test, y_pred, color='blue', linewidth=3)\n",
    "# plt.xlabel('independent columns')\n",
    "# plt.ylabel('Sale Price')\n",
    "# plt.title('Simple Linear Regression')\n",
    "# plt.show()\n",
    "\n",
    "\n",
    "# x = house_price_prediction[~(house_price_prediction['SalePrice'])]\n"
   ]
  },
  {
   "cell_type": "code",
   "execution_count": 15,
   "id": "2da7c143-49e5-49a8-a0c3-7bce95859ba0",
   "metadata": {},
   "outputs": [
    {
     "name": "stdout",
     "output_type": "stream",
     "text": [
      "      MSSubClass  LotArea  TotalBsmtSF  SalePrice  C  RL  RM  FV  RH  Corner  \\\n",
      "1455          60     7917        953.0   175000.0  0   1   0   0   0       0   \n",
      "1456          20    13175       1542.0   210000.0  0   1   0   0   0       0   \n",
      "1457          70     9042       1152.0   266500.0  0   1   0   0   0       0   \n",
      "1458          20     9717       1078.0   142125.0  0   1   0   0   0       0   \n",
      "1459          20     9937       1256.0   147500.0  0   1   0   0   0       0   \n",
      "\n",
      "      CulDSac  FR2  FR3  Inside  1Fam  2fmcom  Duplex  Twnhs  TwnhsE  \n",
      "1455        0    0    0       1     1       0       0      0       0  \n",
      "1456        0    0    0       1     1       0       0      0       0  \n",
      "1457        0    0    0       1     1       0       0      0       0  \n",
      "1458        0    0    0       1     1       0       0      0       0  \n",
      "1459        0    0    0       1     1       0       0      0       0  \n"
     ]
    }
   ],
   "source": [
    "print(house_price_prediction.tail())"
   ]
  },
  {
   "cell_type": "code",
   "execution_count": null,
   "id": "916bb20c-24fb-41e3-add8-538816797ce2",
   "metadata": {},
   "outputs": [],
   "source": []
  }
 ],
 "metadata": {
  "kernelspec": {
   "display_name": "Python 3 (ipykernel)",
   "language": "python",
   "name": "python3"
  },
  "language_info": {
   "codemirror_mode": {
    "name": "ipython",
    "version": 3
   },
   "file_extension": ".py",
   "mimetype": "text/x-python",
   "name": "python",
   "nbconvert_exporter": "python",
   "pygments_lexer": "ipython3",
   "version": "3.9.18"
  }
 },
 "nbformat": 4,
 "nbformat_minor": 5
}
