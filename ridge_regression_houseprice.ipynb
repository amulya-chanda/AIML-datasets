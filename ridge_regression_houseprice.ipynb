{
 "cells": [
  {
   "cell_type": "code",
   "execution_count": null,
   "id": "d376a2da-9590-4370-92b1-f5d1293af179",
   "metadata": {},
   "outputs": [],
   "source": []
  },
  {
   "cell_type": "code",
   "execution_count": 9,
   "id": "728ce5d5-9ef5-4eb6-a9b6-60fce5c67c0b",
   "metadata": {},
   "outputs": [
    {
     "name": "stdout",
     "output_type": "stream",
     "text": [
      "OverallCond\n",
      "5    1645\n",
      "6     531\n",
      "7     390\n",
      "9     185\n",
      "4     168\n",
      "Name: count, dtype: int64\n",
      "Id                 0\n",
      "MSSubClass         0\n",
      "MSZoning           4\n",
      "LotArea            0\n",
      "LotConfig          0\n",
      "BldgType           0\n",
      "OverallCond        0\n",
      "YearBuilt          0\n",
      "YearRemodAdd       0\n",
      "Exterior1st        1\n",
      "BsmtFinSF2         1\n",
      "TotalBsmtSF        1\n",
      "SalePrice       1459\n",
      "built_age          0\n",
      "remodel_age        0\n",
      "dtype: int64\n"
     ]
    }
   ],
   "source": [
    "import pandas as pd\n",
    "import numpy as np\n",
    "import matplotlib.pyplot as plt\n",
    "from sklearn.model_selection import train_test_split\n",
    "from sklearn.linear_model import Ridge\n",
    "from sklearn.metrics import mean_absolute_error, mean_squared_error, r2_score\n",
    "from sklearn.preprocessing import MinMaxScaler\n",
    "df = pd.read_csv(\"/users/amulya/Downloads/HousePricePrediction.csv\")\n",
    "unwanted_columns = ['Id','YearBuilt','YearRemodAdd']\n",
    "df['built_age'] = 2024 - df['YearBuilt']\n",
    "df['remodel_age'] = 2024 - df['YearRemodAdd']\n",
    "# print(df['remodel_age'])\n",
    "df['OverallCond'] = df['OverallCond'].replace({1 : 4,2:4,3:4,8:9})\n",
    "print(df['OverallCond'].value_counts())\n",
    "a = df.isnull().sum()\n",
    "print(a)\n",
    "df = df.dropna()\n",
    "# plt.bar(df['OverallCond'],df['SalePrice'])\n",
    "# plt.show"
   ]
  },
  {
   "cell_type": "markdown",
   "id": "84fe92af-f30e-4bc1-b03a-d4a342ee3766",
   "metadata": {},
   "source": []
  },
  {
   "cell_type": "code",
   "execution_count": 10,
   "id": "ece32a9f-0149-462f-9041-36c52708a720",
   "metadata": {},
   "outputs": [
    {
     "name": "stdout",
     "output_type": "stream",
     "text": [
      "      MSSubClass MSZoning  LotArea LotConfig BldgType  OverallCond  \\\n",
      "0             60       RL     8450    Inside     1Fam            5   \n",
      "1             20       RL     9600       FR2     1Fam            9   \n",
      "2             60       RL    11250    Inside     1Fam            5   \n",
      "3             70       RL     9550    Corner     1Fam            5   \n",
      "4             60       RL    14260       FR2     1Fam            5   \n",
      "...          ...      ...      ...       ...      ...          ...   \n",
      "1455          60       RL     7917    Inside     1Fam            5   \n",
      "1456          20       RL    13175    Inside     1Fam            6   \n",
      "1457          70       RL     9042    Inside     1Fam            9   \n",
      "1458          20       RL     9717    Inside     1Fam            6   \n",
      "1459          20       RL     9937    Inside     1Fam            6   \n",
      "\n",
      "     Exterior1st  BsmtFinSF2  TotalBsmtSF  SalePrice  ...     90    120  \\\n",
      "0        VinylSd         0.0        856.0   208500.0  ...  False  False   \n",
      "1        MetalSd         0.0       1262.0   181500.0  ...  False  False   \n",
      "2        VinylSd         0.0        920.0   223500.0  ...  False  False   \n",
      "3        Wd Sdng         0.0        756.0   140000.0  ...  False  False   \n",
      "4        VinylSd         0.0       1145.0   250000.0  ...  False  False   \n",
      "...          ...         ...          ...        ...  ...    ...    ...   \n",
      "1455     VinylSd         0.0        953.0   175000.0  ...  False  False   \n",
      "1456     Plywood       163.0       1542.0   210000.0  ...  False  False   \n",
      "1457     CemntBd         0.0       1152.0   266500.0  ...  False  False   \n",
      "1458     MetalSd      1029.0       1078.0   142125.0  ...  False  False   \n",
      "1459     HdBoard       290.0       1256.0   147500.0  ...  False  False   \n",
      "\n",
      "        160    180    190      4      5      6      7      9  \n",
      "0     False  False  False  False   True  False  False  False  \n",
      "1     False  False  False  False  False  False  False   True  \n",
      "2     False  False  False  False   True  False  False  False  \n",
      "3     False  False  False  False   True  False  False  False  \n",
      "4     False  False  False  False   True  False  False  False  \n",
      "...     ...    ...    ...    ...    ...    ...    ...    ...  \n",
      "1455  False  False  False  False   True  False  False  False  \n",
      "1456  False  False  False  False  False   True  False  False  \n",
      "1457  False  False  False  False  False  False  False   True  \n",
      "1458  False  False  False  False  False   True  False  False  \n",
      "1459  False  False  False  False  False   True  False  False  \n",
      "\n",
      "[1460 rows x 62 columns]\n"
     ]
    }
   ],
   "source": [
    "df = df.drop(unwanted_columns,axis = 1)\n",
    "dummies = pd.get_dummies(df['MSZoning'])\n",
    "df = pd.concat([df, dummies], axis=1)\n",
    "LotConfig_dummies = pd.get_dummies(df['LotConfig'])\n",
    "df = pd.concat([df, LotConfig_dummies], axis=1)\n",
    "BldgType_dummies = pd.get_dummies(df['BldgType'])\n",
    "df = pd.concat([df, BldgType_dummies], axis=1)\n",
    "Exterior1st_dummies = pd.get_dummies(df['Exterior1st'])\n",
    "df = pd.concat([df, Exterior1st_dummies], axis=1)\n",
    "MSSubClass_dummies = pd.get_dummies(df['MSSubClass'])\n",
    "df = pd.concat([df, MSSubClass_dummies], axis=1)\n",
    "OverallCond_dummies = pd.get_dummies(df['OverallCond'])\n",
    "df = pd.concat([df, OverallCond_dummies], axis=1)\n",
    "print(df)\n"
   ]
  },
  {
   "cell_type": "code",
   "execution_count": 11,
   "id": "9f9f271c-786f-4b18-afda-6dd084b19817",
   "metadata": {},
   "outputs": [
    {
     "name": "stdout",
     "output_type": "stream",
     "text": [
      "      LotArea  BsmtFinSF2  TotalBsmtSF  SalePrice  built_age  remodel_age  \\\n",
      "0        8450         0.0        856.0   208500.0         21           21   \n",
      "1        9600         0.0       1262.0   181500.0         48           48   \n",
      "2       11250         0.0        920.0   223500.0         23           22   \n",
      "3        9550         0.0        756.0   140000.0        109           54   \n",
      "4       14260         0.0       1145.0   250000.0         24           24   \n",
      "...       ...         ...          ...        ...        ...          ...   \n",
      "1455     7917         0.0        953.0   175000.0         25           24   \n",
      "1456    13175       163.0       1542.0   210000.0         46           36   \n",
      "1457     9042         0.0       1152.0   266500.0         83           18   \n",
      "1458     9717      1029.0       1078.0   142125.0         74           28   \n",
      "1459     9937       290.0       1256.0   147500.0         59           59   \n",
      "\n",
      "      C (all)     FV     RH    RL  ...     90    120    160    180    190  \\\n",
      "0       False  False  False  True  ...  False  False  False  False  False   \n",
      "1       False  False  False  True  ...  False  False  False  False  False   \n",
      "2       False  False  False  True  ...  False  False  False  False  False   \n",
      "3       False  False  False  True  ...  False  False  False  False  False   \n",
      "4       False  False  False  True  ...  False  False  False  False  False   \n",
      "...       ...    ...    ...   ...  ...    ...    ...    ...    ...    ...   \n",
      "1455    False  False  False  True  ...  False  False  False  False  False   \n",
      "1456    False  False  False  True  ...  False  False  False  False  False   \n",
      "1457    False  False  False  True  ...  False  False  False  False  False   \n",
      "1458    False  False  False  True  ...  False  False  False  False  False   \n",
      "1459    False  False  False  True  ...  False  False  False  False  False   \n",
      "\n",
      "          4      5      6      7      9  \n",
      "0     False   True  False  False  False  \n",
      "1     False  False  False  False   True  \n",
      "2     False   True  False  False  False  \n",
      "3     False   True  False  False  False  \n",
      "4     False   True  False  False  False  \n",
      "...     ...    ...    ...    ...    ...  \n",
      "1455  False   True  False  False  False  \n",
      "1456  False  False   True  False  False  \n",
      "1457  False  False  False  False   True  \n",
      "1458  False  False   True  False  False  \n",
      "1459  False  False   True  False  False  \n",
      "\n",
      "[1460 rows x 56 columns]\n"
     ]
    }
   ],
   "source": [
    "duplicate_columns = ['MSZoning','LotConfig','BldgType','Exterior1st','MSSubClass','OverallCond']\n",
    "df = df.drop(duplicate_columns,axis = 1)\n",
    "print(df)"
   ]
  },
  {
   "cell_type": "markdown",
   "id": "52ccda36-6512-4e4b-b5c2-f97282cf5a03",
   "metadata": {},
   "source": []
  },
  {
   "cell_type": "code",
   "execution_count": 12,
   "id": "1435f07f-971c-43f5-82da-846ecf59e635",
   "metadata": {},
   "outputs": [
    {
     "name": "stdout",
     "output_type": "stream",
     "text": [
      "34900.0 755000.0\n",
      "Mean Absolute Error (MAE): 0.043356598461174144\n",
      "Mean Squared Error (MSE): 0.004539975492211864\n",
      "R-squared (R²): 0.66263320934278\n",
      "Root Mean Squared Error (RMSE): 0.06737934024767432\n"
     ]
    }
   ],
   "source": [
    "df.columns = df.columns.astype(str)\n",
    "price = df['SalePrice']\n",
    "# print(price)\n",
    "min = df['SalePrice'].min()\n",
    "max = df['SalePrice'].max()\n",
    "print(min,max)\n",
    "scaler = MinMaxScaler()\n",
    "X_scaled = scaler.fit_transform(df)\n",
    "# print(X_scaled.info())\n",
    "df_scaled = pd.DataFrame(X_scaled, columns=df.columns)\n",
    "x = df_scaled.drop(['SalePrice'], axis= 1)\n",
    "y = df_scaled['SalePrice']\n",
    "# Y_scaled = scaler.fit_transform(y)\n",
    "x_train, x_test, y_train, y_test = train_test_split(x, y, test_size=0.3, random_state=42)\n",
    "ridge = Ridge(alpha=0.6, max_iter=500, tol=0.1, fit_intercept=True, random_state=42)\n",
    "ridge.fit(x_train, y_train)\n",
    "x_pred_ridge_test = ridge.predict(x_test)\n",
    "r2_score(y_test, x_pred_ridge_test)\n",
    "mae = mean_absolute_error(y_test, x_pred_ridge_test)\n",
    "mse = mean_squared_error(y_test, x_pred_ridge_test)\n",
    "r_squared = r2_score(y_test, x_pred_ridge_test)\n",
    "rmse = np.sqrt(mse)\n",
    "print(\"Mean Absolute Error (MAE):\", mae)\n",
    "print(\"Mean Squared Error (MSE):\", mse)\n",
    "print(\"R-squared (R²):\", r_squared)  \n",
    "print(\"Root Mean Squared Error (RMSE):\", rmse)\n",
    "predicted_price = ((min+max)*x_pred_ridge_test)+min\n",
    "# print(predicted_price)\n",
    "ridge_reg_dataset = x_test.copy()\n",
    "ridge_reg_dataset['Actual SalePrice'] = y_test.values\n",
    "ridge_reg_dataset['Predicted SalePrice'] = x_pred_ridge_test\n",
    "ridge_reg_dataset['actual price'] = price\n",
    "ridge_reg_dataset['predicted price'] = x_pred_ridge_test\n",
    "# print(ridge_reg_dataset)\n"
   ]
  },
  {
   "cell_type": "code",
   "execution_count": 13,
   "id": "7d8ef5f1-185d-47c1-8d58-f9b93fccbe4f",
   "metadata": {},
   "outputs": [
    {
     "name": "stdout",
     "output_type": "stream",
     "text": [
      "       LotArea  BsmtFinSF2  TotalBsmtSF  built_age  remodel_age  C (all)   FV  \\\n",
      "892   0.033252         0.0     0.173322   0.340580     0.116667      0.0  0.0   \n",
      "1105  0.051209         0.0     0.239444   0.115942     0.250000      0.0  0.0   \n",
      "413   0.035804         0.0     0.164975   0.601449     1.000000      0.0  0.0   \n",
      "522   0.017294         0.0     0.164321   0.456522     1.000000      0.0  0.0   \n",
      "1036  0.054210         0.0     0.265139   0.021739     0.033333      0.0  0.0   \n",
      "...        ...         ...          ...        ...          ...      ...  ...   \n",
      "331   0.032139         0.0     0.172831   0.376812     0.300000      0.0  0.0   \n",
      "323   0.021127         0.0     0.190180   0.398551     0.083333      0.0  0.0   \n",
      "650   0.031901         0.0     0.133061   0.021739     0.050000      0.0  1.0   \n",
      "439   0.051667         0.0     0.111948   0.652174     0.166667      0.0  0.0   \n",
      "798   0.057108         0.0     0.315221   0.014493     0.016667      0.0  0.0   \n",
      "\n",
      "       RH   RL   RM  ...  190    4    5    6    7    9  Actual SalePrice  \\\n",
      "892   0.0  1.0  0.0  ...  0.0  0.0  0.0  0.0  0.0  1.0          0.166088   \n",
      "1105  0.0  1.0  0.0  ...  0.0  0.0  1.0  0.0  0.0  0.0          0.402861   \n",
      "413   0.0  0.0  1.0  ...  0.0  0.0  0.0  1.0  0.0  0.0          0.111235   \n",
      "522   0.0  0.0  1.0  ...  0.0  0.0  0.0  0.0  1.0  0.0          0.172337   \n",
      "1036  0.0  1.0  0.0  ...  0.0  0.0  1.0  0.0  0.0  0.0          0.389668   \n",
      "...   ...  ...  ...  ...  ...  ...  ...  ...  ...  ...               ...   \n",
      "331   0.0  1.0  0.0  ...  0.0  0.0  0.0  1.0  0.0  0.0          0.144563   \n",
      "323   0.0  0.0  1.0  ...  0.0  0.0  0.0  0.0  0.0  1.0          0.126753   \n",
      "650   0.0  0.0  0.0  ...  0.0  0.0  0.0  1.0  0.0  0.0          0.237536   \n",
      "439   0.0  1.0  0.0  ...  0.0  0.0  0.0  0.0  0.0  1.0          0.104291   \n",
      "798   0.0  1.0  0.0  ...  0.0  0.0  1.0  0.0  0.0  0.0          0.625052   \n",
      "\n",
      "      Predicted SalePrice  actual price  predicted price  \n",
      "892              0.185831      154500.0    181688.175668  \n",
      "1105             0.307434      325000.0    277741.779575  \n",
      "413              0.089311      115000.0    105447.128224  \n",
      "522              0.187677      159000.0    183146.367566  \n",
      "1036             0.289688      315500.0    263724.852225  \n",
      "...                   ...           ...              ...  \n",
      "331              0.180215      139000.0    177251.612900  \n",
      "323              0.177312      126175.0    174959.097523  \n",
      "650              0.329098      205950.0    294854.668246  \n",
      "439              0.173198      110000.0    171709.197272  \n",
      "798              0.389955      485000.0    342925.640060  \n",
      "\n",
      "[438 rows x 59 columns]\n"
     ]
    }
   ],
   "source": [
    "ridge_reg_dataset = x_test.copy()\n",
    "ridge_reg_dataset['Actual SalePrice'] = y_test.values\n",
    "ridge_reg_dataset['Predicted SalePrice'] = x_pred_ridge_test\n",
    "ridge_reg_dataset['actual price'] = price\n",
    "ridge_reg_dataset['predicted price'] = predicted_price\n",
    "print(ridge_reg_dataset)"
   ]
  },
  {
   "cell_type": "code",
   "execution_count": 14,
   "id": "b97aab21-d1d9-4bdb-aa2b-edcc1c543510",
   "metadata": {},
   "outputs": [
    {
     "name": "stdout",
     "output_type": "stream",
     "text": [
      "49595.63151785555\n"
     ]
    }
   ],
   "source": [
    "from sklearn.metrics import mean_squared_error \n",
    "error = ridge_reg_dataset['actual price']-ridge_reg_dataset['predicted price']\n",
    "mse_price = mean_squared_error(ridge_reg_dataset['actual price'], ridge_reg_dataset['predicted price'])\n",
    "rmse_price = np.sqrt(mse_price)\n",
    "print(rmse_price)\n"
   ]
  },
  {
   "cell_type": "code",
   "execution_count": 15,
   "id": "a9ce9d41-b13c-49bc-9dba-0d9e5e4b7d58",
   "metadata": {},
   "outputs": [
    {
     "data": {
      "text/plain": [
       "198445.92620270993"
      ]
     },
     "execution_count": 15,
     "metadata": {},
     "output_type": "execute_result"
    }
   ],
   "source": [
    "from sklearn.neighbors import KNeighborsRegressor \n",
    "knn = KNeighborsRegressor(n_neighbors=7) \n",
    "  \n",
    "knn.fit(x_train, y_train) \n",
    "predicted_price = knn.predict(x_test)\n",
    "mse = mean_squared_error(ridge_reg_dataset['actual price'], predicted_price)\n",
    "rmse = np.sqrt(mse)\n",
    "rmse"
   ]
  },
  {
   "cell_type": "code",
   "execution_count": 18,
   "id": "64132314-d82e-402d-9141-d19e7f10f915",
   "metadata": {},
   "outputs": [
    {
     "data": {
      "text/plain": [
       "198445.9053260073"
      ]
     },
     "execution_count": 18,
     "metadata": {},
     "output_type": "execute_result"
    }
   ],
   "source": [
    "from sklearn.tree import DecisionTreeRegressor \n",
    "\n",
    "model = DecisionTreeRegressor(random_state=42)\n",
    "model.fit(x_train, y_train)\n",
    "y_pred = model.predict(x_test)\n",
    "mse = mean_squared_error(ridge_reg_dataset['actual price'], y_pred)\n",
    "rmse = np.sqrt(mse)\n",
    "rmse"
   ]
  },
  {
   "cell_type": "code",
   "execution_count": null,
   "id": "ea1dd83c-9d17-4c14-a65d-1351525d83f6",
   "metadata": {},
   "outputs": [],
   "source": []
  },
  {
   "cell_type": "code",
   "execution_count": null,
   "id": "1c1b654f-10d1-4366-8ca2-0ac4c41fd859",
   "metadata": {},
   "outputs": [],
   "source": []
  }
 ],
 "metadata": {
  "kernelspec": {
   "display_name": "Python 3 (ipykernel)",
   "language": "python",
   "name": "python3"
  },
  "language_info": {
   "codemirror_mode": {
    "name": "ipython",
    "version": 3
   },
   "file_extension": ".py",
   "mimetype": "text/x-python",
   "name": "python",
   "nbconvert_exporter": "python",
   "pygments_lexer": "ipython3",
   "version": "3.9.18"
  }
 },
 "nbformat": 4,
 "nbformat_minor": 5
}
