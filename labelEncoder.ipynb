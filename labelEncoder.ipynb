{
 "cells": [
  {
   "cell_type": "code",
   "execution_count": 15,
   "id": "9647c10a-9832-4a7b-9db0-1ee0b49ac112",
   "metadata": {},
   "outputs": [
    {
     "name": "stdout",
     "output_type": "stream",
     "text": [
      "[' 10th' ' 11th' ' 12th' ' 1st-4th' ' 5th-6th' ' 7th-8th' ' 9th'\n",
      " ' Assoc-acdm' ' Assoc-voc' ' Bachelors' ' Doctorate' ' HS-grad'\n",
      " ' Masters' ' Preschool' ' Prof-school' ' Some-college']\n",
      "   age   workclass  Unnamed: 2  education-num       marital-status  \\\n",
      "0   25     Private      226802              7        Never-married   \n",
      "1   38     Private       89814              9   Married-civ-spouse   \n",
      "2   28   Local-gov      336951             12   Married-civ-spouse   \n",
      "3   44     Private      160323             10   Married-civ-spouse   \n",
      "4   18           ?      103497             10        Never-married   \n",
      "\n",
      "           occupation relationship    race      sex  capital-gain  ...   9th  \\\n",
      "0   Machine-op-inspct    Own-child   Black     Male             0  ...     0   \n",
      "1     Farming-fishing      Husband   White     Male             0  ...     0   \n",
      "2     Protective-serv      Husband   White     Male             0  ...     0   \n",
      "3   Machine-op-inspct      Husband   Black     Male          7688  ...     0   \n",
      "4                   ?    Own-child   White   Female             0  ...     0   \n",
      "\n",
      "    Assoc-acdm  Assoc-voc  Bachelors   Doctorate   HS-grad   Masters  \\\n",
      "0            0          0          0           0         0         0   \n",
      "1            0          0          0           0         1         0   \n",
      "2            1          0          0           0         0         0   \n",
      "3            0          0          0           0         0         0   \n",
      "4            0          0          0           0         0         0   \n",
      "\n",
      "    Preschool   Prof-school   Some-college  \n",
      "0           0             0              0  \n",
      "1           0             0              0  \n",
      "2           0             0              0  \n",
      "3           0             0              1  \n",
      "4           0             0              1  \n",
      "\n",
      "[5 rows x 30 columns]\n"
     ]
    }
   ],
   "source": [
    "import pandas as pd\n",
    "import numpy as np\n",
    "import matplotlib.pyplot as plt\n",
    "from sklearn.model_selection import train_test_split,GridSearchCV\n",
    "from sklearn.linear_model import LogisticRegression\n",
    "from sklearn.preprocessing import MinMaxScaler\n",
    "import seaborn as sns\n",
    "from sklearn.metrics import accuracy_score,precision_score, recall_score, f1_score, confusion_matrix, roc_curve, roc_auc_score\n",
    "from sklearn.neighbors import KNeighborsClassifier\n",
    "from sklearn.preprocessing import LabelBinarizer\n",
    "from sklearn.preprocessing import LabelEncoder\n",
    "df = pd.read_csv(\"/users/amulya/Downloads/archive (6)/adult_test.csv\")\n",
    "# print(df.head())\n",
    "label_binarizer = LabelBinarizer()\n",
    "# a = df[['education','marital-status','relationship']]\n",
    "label_binarizer.fit(df['education'])\n",
    "print(label_binarizer.classes_)\n",
    "binary_labels = label_binarizer.transform(df['education'])\n",
    "# df = df.drop('education',axis = 1)\n",
    "# print(df.head())\n",
    "binarized_target = pd.DataFrame(binary_labels, columns=label_binarizer.classes_)\n",
    "df = pd.concat([df,binarized_target],axis=1)\n",
    "df = df.drop('education',axis = 1)\n",
    "print(df.head())"
   ]
  },
  {
   "cell_type": "code",
   "execution_count": 21,
   "id": "8c107ae8-73b0-43fc-a130-91d5b03471ab",
   "metadata": {},
   "outputs": [
    {
     "name": "stdout",
     "output_type": "stream",
     "text": [
      "[' Husband' ' Not-in-family' ' Other-relative' ' Own-child' ' Unmarried'\n",
      " ' Wife']\n",
      "[3 0 0 ... 0 3 0]\n",
      "   age   workclass  Unnamed: 2  education-num       marital-status  \\\n",
      "0   25     Private      226802              7        Never-married   \n",
      "1   38     Private       89814              9   Married-civ-spouse   \n",
      "2   28   Local-gov      336951             12   Married-civ-spouse   \n",
      "3   44     Private      160323             10   Married-civ-spouse   \n",
      "4   18           ?      103497             10        Never-married   \n",
      "\n",
      "           occupation relationship    race      sex  capital-gain  ...   9th  \\\n",
      "0   Machine-op-inspct    Own-child   Black     Male             0  ...     0   \n",
      "1     Farming-fishing      Husband   White     Male             0  ...     0   \n",
      "2     Protective-serv      Husband   White     Male             0  ...     0   \n",
      "3   Machine-op-inspct      Husband   Black     Male          7688  ...     0   \n",
      "4                   ?    Own-child   White   Female             0  ...     0   \n",
      "\n",
      "    Assoc-acdm  Assoc-voc  Bachelors   Doctorate   HS-grad   Masters  \\\n",
      "0            0          0          0           0         0         0   \n",
      "1            0          0          0           0         1         0   \n",
      "2            1          0          0           0         0         0   \n",
      "3            0          0          0           0         0         0   \n",
      "4            0          0          0           0         0         0   \n",
      "\n",
      "    Preschool   Prof-school   Some-college  \n",
      "0           0             0              0  \n",
      "1           0             0              0  \n",
      "2           0             0              0  \n",
      "3           0             0              1  \n",
      "4           0             0              1  \n",
      "\n",
      "[5 rows x 30 columns]\n"
     ]
    }
   ],
   "source": [
    "label_encoder = LabelEncoder()\n",
    "categories = df[['marital-status','relationship']]\n",
    "label_encoder.fit(df['relationship'])\n",
    "encoded_labels = label_encoder.transform(df['relationship'])\n",
    "print(label_encoder.classes_)\n",
    "print(encoded_labels)\n",
    "print(df.head())"
   ]
  },
  {
   "cell_type": "code",
   "execution_count": null,
   "id": "f1725296-9bf6-449c-9be3-816058139d48",
   "metadata": {},
   "outputs": [],
   "source": []
  }
 ],
 "metadata": {
  "kernelspec": {
   "display_name": "Python 3 (ipykernel)",
   "language": "python",
   "name": "python3"
  },
  "language_info": {
   "codemirror_mode": {
    "name": "ipython",
    "version": 3
   },
   "file_extension": ".py",
   "mimetype": "text/x-python",
   "name": "python",
   "nbconvert_exporter": "python",
   "pygments_lexer": "ipython3",
   "version": "3.9.18"
  }
 },
 "nbformat": 4,
 "nbformat_minor": 5
}
