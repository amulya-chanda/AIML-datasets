{
 "cells": [
  {
   "cell_type": "code",
   "execution_count": 17,
   "id": "d6208357-aac4-4ec3-ba6c-f443ec9c5637",
   "metadata": {},
   "outputs": [
    {
     "name": "stdout",
     "output_type": "stream",
     "text": [
      "7.959899999999999\n",
      "7.9\n",
      "0.27701756032556624\n"
     ]
    }
   ],
   "source": [
    "import numpy as np\n",
    "import pandas as pd\n",
    "movies_data = pd.read_csv(\"/users/amulya/Downloads/IMDb_Data_final.csv\")\n",
    "# print(movies_data.head()) \n",
    "data= movies_data['IMDb-Rating']\n",
    "print(data.mean())\n",
    "print(data.median())\n",
    "print(data.std())\n"
   ]
  },
  {
   "cell_type": "code",
   "execution_count": null,
   "id": "265402f7-3bff-4ef7-abce-cb3c2dd0f2ca",
   "metadata": {},
   "outputs": [],
   "source": [
    "\n"
   ]
  },
  {
   "cell_type": "code",
   "execution_count": 10,
   "id": "5ec48b98-4af5-4598-bd20-51bf8c6d06d5",
   "metadata": {},
   "outputs": [
    {
     "name": "stdout",
     "output_type": "stream",
     "text": [
      "<class 'int'>\n"
     ]
    }
   ],
   "source": [
    "a= ['k',\"9\"]\n",
    "print(type(1))\n"
   ]
  },
  {
   "cell_type": "code",
   "execution_count": null,
   "id": "0fda920d-b620-4d17-9b13-f6d85ad20c7d",
   "metadata": {},
   "outputs": [],
   "source": []
  },
  {
   "cell_type": "code",
   "execution_count": null,
   "id": "dfa65ec3-770c-42a8-83c8-3d6ac666dc98",
   "metadata": {},
   "outputs": [],
   "source": []
  },
  {
   "cell_type": "code",
   "execution_count": 7,
   "id": "20919158-fc00-495a-8758-e64055523303",
   "metadata": {},
   "outputs": [],
   "source": []
  },
  {
   "cell_type": "code",
   "execution_count": null,
   "id": "a068fd00-be9d-4bfd-b71a-a7344dcb8072",
   "metadata": {},
   "outputs": [],
   "source": []
  },
  {
   "cell_type": "code",
   "execution_count": null,
   "id": "333ac248-cd15-48c5-86d5-937c2369a97b",
   "metadata": {},
   "outputs": [],
   "source": []
  }
 ],
 "metadata": {
  "kernelspec": {
   "display_name": "Python 3 (ipykernel)",
   "language": "python",
   "name": "python3"
  },
  "language_info": {
   "codemirror_mode": {
    "name": "ipython",
    "version": 3
   },
   "file_extension": ".py",
   "mimetype": "text/x-python",
   "name": "python",
   "nbconvert_exporter": "python",
   "pygments_lexer": "ipython3",
   "version": "3.9.18"
  }
 },
 "nbformat": 4,
 "nbformat_minor": 5
}
